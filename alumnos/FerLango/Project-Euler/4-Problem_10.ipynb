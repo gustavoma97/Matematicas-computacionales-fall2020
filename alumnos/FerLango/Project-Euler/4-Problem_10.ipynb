{
 "cells": [
  {
   "cell_type": "markdown",
   "metadata": {},
   "source": [
    "# Problem 10\n",
    "### Summation of primes"
   ]
  },
  {
   "cell_type": "markdown",
   "metadata": {},
   "source": [
    "<p>The sum of the primes below 10 is 2 + 3 + 5 + 7 = 17.</p>\n",
    "<p>Find the sum of all the primes below two million.</p>\n",
    "\n",
    "\n"
   ]
  },
  {
   "cell_type": "code",
   "execution_count": 194,
   "metadata": {},
   "outputs": [
    {
     "data": {
      "text/plain": [
       "17"
      ]
     },
     "execution_count": 194,
     "metadata": {},
     "output_type": "execute_result"
    }
   ],
   "source": [
    "def Primo (k, ant=2):\n",
    "    \"\"\"\n",
    "    Si encuentra un divisor entonces no es primo\n",
    "    \"\"\"\n",
    "    for i in range(ant,k):\n",
    "        if k % i == 0:\n",
    "            return False\n",
    "    return True\n",
    "\n",
    "def Suma (n):\n",
    "    tot = 0\n",
    "    \"\"\"\n",
    "    Encuentra la suma, pero es muy lento\n",
    "    \"\"\"\n",
    "    for i in range (2, n):\n",
    "        if Primo(i):\n",
    "            tot+= i\n",
    "    return tot\n",
    "\n",
    "Suma(10)"
   ]
  },
  {
   "cell_type": "code",
   "execution_count": 197,
   "metadata": {},
   "outputs": [
    {
     "data": {
      "text/plain": [
       "[2, 3, 5, 7]"
      ]
     },
     "execution_count": 197,
     "metadata": {},
     "output_type": "execute_result"
    }
   ],
   "source": [
    "def Criba (n):\n",
    "    \"\"\"\n",
    "    Metodo criba eratostenes\n",
    "    http://www.juntadeandalucia.es/averroes/centros-tic/18601059/helvia/aula/archivos/repositorio/250/354/html/Plan%204-6-09/criba.htm\n",
    "    Es muy lento\n",
    "    \"\"\"\n",
    "    primos = [2]\n",
    "    for i in range(3,n):\n",
    "        band = True\n",
    "        for j in primos:\n",
    "            if i%j == 0:\n",
    "                band = False\n",
    "                break\n",
    "        if band:\n",
    "            primos.append(i)\n",
    "    return primos\n",
    "\n",
    "Criba(10)\n",
    "   "
   ]
  },
  {
   "cell_type": "code",
   "execution_count": 196,
   "metadata": {},
   "outputs": [
    {
     "data": {
      "text/plain": [
       "142913828922"
      ]
     },
     "execution_count": 196,
     "metadata": {},
     "output_type": "execute_result"
    }
   ],
   "source": [
    "import numpy as np\n",
    "def CribaMejorada(n):\n",
    "    suma = 0\n",
    "    primos = [True] * (n+1)\n",
    "    primos[0]=primos[1]=False\n",
    "    for i in range(2,n):\n",
    "        if primos[i]:\n",
    "            suma+= i\n",
    "            for multiplo in range(2*i,n+1,i):\n",
    "                primos[multiplo]=False     \n",
    "    return suma\n",
    "\n",
    "\n",
    "    \n",
    "CribaMejorada(2000000)\n"
   ]
  }
 ],
 "metadata": {
  "kernelspec": {
   "display_name": "Python 3",
   "language": "python",
   "name": "python3"
  },
  "language_info": {
   "codemirror_mode": {
    "name": "ipython",
    "version": 3
   },
   "file_extension": ".py",
   "mimetype": "text/x-python",
   "name": "python",
   "nbconvert_exporter": "python",
   "pygments_lexer": "ipython3",
   "version": "3.8.5"
  }
 },
 "nbformat": 4,
 "nbformat_minor": 4
}
