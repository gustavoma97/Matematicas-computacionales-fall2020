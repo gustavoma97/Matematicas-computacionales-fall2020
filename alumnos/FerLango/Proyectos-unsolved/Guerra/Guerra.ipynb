{
 "cells": [
  {
   "cell_type": "markdown",
   "metadata": {},
   "source": [
    "# ¡Guerra!"
   ]
  },
  {
   "cell_type": "markdown",
   "metadata": {},
   "source": [
    "### Temas principales"
   ]
  },
  {
   "cell_type": "markdown",
   "metadata": {},
   "source": [
    "- Sistemas de ecuaciones diferenciales\n",
    "- Agentes"
   ]
  },
  {
   "cell_type": "markdown",
   "metadata": {},
   "source": [
    "## Introducción"
   ]
  },
  {
   "cell_type": "markdown",
   "metadata": {},
   "source": [
    "Queremos modelar una batalla, y queremos hacerlo de manera muy simple. El modelo que vamos a considerar fué propuesto por [**Frederick Lanchester**](http://en.wikipedia.org/wiki/Lanchester%27s_laws) en 1916. "
   ]
  },
  {
   "cell_type": "markdown",
   "metadata": {},
   "source": [
    "Las suposiciones son las siguientes:"
   ]
  },
  {
   "cell_type": "markdown",
   "metadata": {},
   "source": [
    "- Hay dos lados en la batalla: **azules** y **rojos**.\n",
    "- Los principales factores que deciden el resultado de la batalla son el número de tropas y el entrenamiento/equipo.\n",
    "- Sea $x$ el número de tropas de los **rojos** y $y$ el número de tropas de los **azules**.\n",
    "- Sea $a$ la potencia de fuego de los **rojos** y sea $b$ la potencia de fuego de los **azules**.\n",
    "    - La _potencia de fuego_ está basada en el entrenamiento, equipo, etc."
   ]
  },
  {
   "cell_type": "markdown",
   "metadata": {},
   "source": [
    "Con estas suposiciones tenemos el modelo de Lanchester:\n",
    "\n",
    "$$\n",
    "\\frac{dx}{dt} = -ay\n",
    "$$\n",
    "\n",
    "\n",
    "$$\n",
    "\\frac{dy}{dt} = -bx\n",
    "$$\n",
    "\n",
    "con condiciones iniciales $x(0) = x_0$ y $y(0) = y_0$."
   ]
  },
  {
   "cell_type": "markdown",
   "metadata": {},
   "source": [
    "## Preguntas a responder"
   ]
  },
  {
   "cell_type": "markdown",
   "metadata": {},
   "source": [
    "- Usando **Simpy** resuelva las ecuaciones de manera explícita.\n",
    "- Deduzca e interprete la **Ley de cuadrados de Lanchester**. \n",
    "$$\n",
    "x^2 - \\frac{b}{a}y^2 = K,\n",
    "$$\n",
    "para varios valores de $K$. ¿Qué sucede cuando $K=0$?"
   ]
  },
  {
   "cell_type": "markdown",
   "metadata": {},
   "source": [
    "- Modele combate entre guerrillas (_GUERCOM_): El territorio es grande y hay muchos lugares dónde esconderse. Las fuerzas **azules** deben de encontrar a las fuerzas **rojas** primero antes de inflingir daños, entre más **rojos** más fácil encontrarlos. \n",
    "$$\n",
    "\\frac{dx}{dt} = -axy\n",
    "$$\n",
    "$$\n",
    "\\frac{dy}{dt} = -bxy\n",
    "$$\n",
    "Explique estas ecuaciones e indique los posibles casos. ¿Qué pasa si $x_0 = 3y_0$?¿Qué tan efectivo deben de ser los **azules** para lograr un empate?"
   ]
  },
  {
   "cell_type": "markdown",
   "metadata": {},
   "source": [
    "- El modelo _VIETNAM_ es la unión de los últimos dos modelos: las tropas de **EU** contra el **Vietcong**\n",
    "$$\n",
    "\\frac{dx}{dt} = -axy\n",
    "$$\n",
    "$$\n",
    "\\frac{dy}{dt} = -bx,\n",
    "$$\n",
    "donde $a$ es proporcional a la razón entre el área de un guerrillero $A_g \\sim 2$ sq. ft. y el área ocupada por la guerrilla $A_x$\n",
    "$$\n",
    "a = c_1\\frac{A_g}{A_x},\n",
    "$$\n",
    "un guerrillero cubre aproximadamente $1,000$ sq.ft. y si están dispersados $A_x = (1,000)sq.ft. \\times x_0$.\n",
    "$b$ representa la efectividad de la guerrilla contra una fuerza convencional, y depende de la probabilidad de que un disparo de un guerrillero mate a un soldado. \n",
    "$$\n",
    "b = c_2p_x\n",
    "$$\n",
    "$c_1$ y $c_2$ son las tasas de disparo (depende de la tecnología del armamento) y se suponen aproximadas $c_1 \\sim c_2$. ¿Cuáles son las condiciones de empate? ¿Cuántos soldados convencionales debe de tener el ejército convencional para derrotar a la guerrilla? En Vietnam, las tropas de EUA nunca fueron mayores a las del Vietcong por más de 6 a 1. ¿Pudo haber ganado EUA?\n"
   ]
  },
  {
   "cell_type": "markdown",
   "metadata": {},
   "source": [
    "- Es posible modificar las ecuaciones para modelar combate convencional (_CONCON_):\n",
    "$$\n",
    "\\frac{dx}{dt} = -cx-ay+P(t)\n",
    "$$\n",
    "$$\n",
    "\\frac{dy}{dt} = -bx-dy+Q(t)\n",
    "$$\n",
    "donde ${d,c}$ son la tasa de pérdidas operacionales (enfermedades, deserciones, etc.) -proporcional al número de las tropas, y ${a,b}$ es la tasa de pérdidas en combate. ${P,Q}$ es la tasa de refuerzos. \n",
    "La batalla de Iwo Jima, en la segunda guerra mundial, fué modelada por Engel en 1954, aplicando estas ecuaciones y dió una _comprobación empírica_ de las ecuaciones de Lanchester, aunque en este caso, sólo el ejército de EUA tuvo refuerzos:\n",
    "$$\n",
    "\\frac{dx}{dt} = -ay\n",
    "$$\n",
    "$$\n",
    "\\frac{dy}{dt} = -bx+Q(t)\n",
    "$$\n",
    "Resuelva las ecuaciones con $x_0 = 21,500$, $y_0=0$ y \n",
    "$$Q(t) = 54,000 \\mathcal{U}_{[0,1]} + 6,000 \\mathcal{U}_{[2_3]} + 13,000 \\mathcal{U}_{[5,6]},$$\n",
    "donde $\\mathcal{U}$ es la función escalón. "
   ]
  },
  {
   "cell_type": "markdown",
   "metadata": {},
   "source": [
    "- Encuentre los valores de $a$ y $b$ para ajustar los datos empíricos mostrados en la figura siguiente:"
   ]
  },
  {
   "cell_type": "markdown",
   "metadata": {},
   "source": [
    "<img src=\"imagenes/iwo_jima.png\"/>"
   ]
  },
  {
   "cell_type": "markdown",
   "metadata": {},
   "source": [
    "- Si no hubiera habido refuerzos ¿Cuál hubiera sido el resultado de la batalla?\n",
    "- ¿Puede sugerir (buscando alguna referencia de tropas cercanas japonesas) cómo intervenir para ganar esta batalla?"
   ]
  },
  {
   "cell_type": "markdown",
   "metadata": {},
   "source": [
    "- **This is Sparta!** Es posible simular la batalla del Termópilas: Suponga que sólo $C$ unidades de cada lado caben en el estrecho (o paso) de Termópilas, entonces las ecuaciones se convierten en \n",
    "$$\n",
    "\\frac{dx}{dt} = -a \\min(y,C)\n",
    "$$\n",
    "$$\n",
    "\\frac{dy}{dt} = -b \\min(x,C)\n",
    "$$\n",
    "Separe en cuatro casos el espacio $x-y$ y dibuje las regiones de manera analítica. ¿Obtiene el mismo resultado numérico? Utilice los datos \"históricos\" ¿El resultado es parecido a la vida real?"
   ]
  },
  {
   "cell_type": "markdown",
   "metadata": {},
   "source": [
    "- **Agentes** Use la clase agente para modelar el último escenario, suponga únicamente combate cuerpo a cuerpo, asigne una probabilidad de herir, morir y matar para los agentes que estén uno enfrente de otro. Agregue un valor de `cohesión` / `miedo`. Si pasa de un límite el miedo huye el agente. Agregue un atributo de `moral`. ¿Los resultados coinciden con el modelo de Lanchester?"
   ]
  },
  {
   "cell_type": "markdown",
   "metadata": {},
   "source": [
    "## Preguntas extra"
   ]
  },
  {
   "cell_type": "markdown",
   "metadata": {},
   "source": [
    "- Usando como base a **Chen, 2012** (Incluido en el repo) simule la batalla de Trafalgar con Lanchester.\n",
    "- ¿Cómo modelaría fatiga o abastecimiento en Lanchester?\n",
    "- ¿Cómo incluiría a un tercer combatiente? ¿Se ve afectadas las ecuaciones si los **rojos** tienen fuerzas regulares e irregulares?"
   ]
  },
  {
   "cell_type": "markdown",
   "metadata": {},
   "source": [
    "## Bibliografía"
   ]
  },
  {
   "cell_type": "markdown",
   "metadata": {},
   "source": [
    "- **Wikipedia** [_Lanchester laws_](http://en.wikipedia.org/wiki/Lanchester%27s_laws)\n",
    "- **J.H. Engel** _A verification of Lanchester's Law_ `Journal of the Operations Research Society of America, Vol. 2, No. 2. (May, 1954), pp. 163-171`\n",
    "- **Alex Chen** _This Means War! Modeling Combat with Applications to Real Time Strategy Games_ (2012)\n",
    "- **Marcin Waniek** _An Agent-Based Simulation of the Battle of Kokenhausen_"
   ]
  }
 ],
 "metadata": {
  "kernelspec": {
   "display_name": "Python 3",
   "language": "python",
   "name": "python3"
  },
  "language_info": {
   "codemirror_mode": {
    "name": "ipython",
    "version": 3
   },
   "file_extension": ".py",
   "mimetype": "text/x-python",
   "name": "python",
   "nbconvert_exporter": "python",
   "pygments_lexer": "ipython3",
   "version": "3.7.6"
  }
 },
 "nbformat": 4,
 "nbformat_minor": 1
}
