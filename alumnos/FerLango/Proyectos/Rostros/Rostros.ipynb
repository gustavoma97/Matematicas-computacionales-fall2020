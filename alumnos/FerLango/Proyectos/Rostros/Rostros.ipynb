{
 "cells": [
  {
   "cell_type": "markdown",
   "metadata": {},
   "source": [
    "Identificación de rostros"
   ]
  },
  {
   "cell_type": "markdown",
   "metadata": {},
   "source": [
    "### Temas Principales"
   ]
  },
  {
   "cell_type": "markdown",
   "metadata": {},
   "source": [
    "- Matrices"
   ]
  },
  {
   "cell_type": "markdown",
   "metadata": {},
   "source": [
    "## Introducción"
   ]
  },
  {
   "cell_type": "markdown",
   "metadata": {},
   "source": [
    "Utilizando una base de datos, con rostros de personas (datos de _entrenamiento_ ) es posible preparar un **modelo** que ayude a identificar rostros en un nuevo conjunto de datos con rostros de personas (datos de _prueba_ ). La técnica que se va a utilizar en este proyecto, está basada en la idea de encontrar un conjunto de _eigenvectores_ para cada persona y luego utilizarlo para **clasificar** nuevos rostros.\n",
    "\n",
    "La idea fue presentada originalmente por Sirovich y Kirby en 1987 (**L. Sirovich and M. Kirby** (1987). _Low-dimensional procedure for the characterization of human faces_. `Journal of the Optical Society of America A 4 (3): 519–524`) e implementada por Turk  y Pentland en 1991 (**M. Turk and A. Pentland** (1991). _Face recognition using eigenfaces_. `Proc. IEEE Conference on Computer Vision and Pattern Recognition. pp. 586–591.`)."
   ]
  },
  {
   "cell_type": "markdown",
   "metadata": {},
   "source": [
    "## Preguntas a responder"
   ]
  },
  {
   "cell_type": "markdown",
   "metadata": {},
   "source": [
    "1. Descarga un conjunto de prueba del **LFW**, verifica que todos las imagenes están estandarizadas en tamaño y vienen en escala de grises. Tiene que haber 10 clases. Guarda estas imágenes en una carpeta llamada `originales`. Esto es muy importante, ya que los resultados deben de ser reproducibles.\n",
    "2. Describe las imagenes obtenidas ¿Cuáles son las etiquetas? ¿Cuántas imágenes hay de cada etiqueta? Crea carpetas con los nombres de las etiquetas y guarda las imágenes correspondientes ahí.\n",
    "3. Crea una función que muestre en una matriz de imágenes de $m \\times n$ un conjunto aleatorio del conjunto de datos en `originales`.\n",
    "4. Crea una función que calcule el rostro promedio de un personaje en particular. \n",
    "5. Crea una función que muestre el rostro promedio de un personaje en particular.\n",
    "6. Guarda los rostros promedios en una carpeta `promedios` usando el nombre de la etiqueta.\n",
    "7. De cada etiqueta, separala en dos grupos, uno de _entrenamiento_ (cada personaje con el mismo número de imagenes) y uno de _prueba_ (el restante).\n",
    "8. Crea una matriz $\\mathcal{M}$ con las imagenes de _entrenamiento_ puestas en un vector.\n",
    "9. Calcula la matriz de **correlación** $\\mathcal{C} = \\mathcal{M}^T\\mathcal{M}$. ¿Por qué es una matriz de correlación?\n",
    "10. Obtén los primeros $30$ _vectores_ y _valores propios_ de $\\mathcal{C}$.\n",
    "11. Toma cada uno de los _vectores propios_ y muéstralos como imagen.\n",
    "12. Muestra en una gráfica los _valores propios_ , ordenados de mayor a menor.\n",
    "13. Crea una función que calcule la representación de una imagen en los _vectores propios_. Esto se hace tomando la _proyección_ de la imagen en los _vectores propios_ . ¿Por qué? \n",
    "14. Utiliza esa función con las imágenes promedio, esto te da la representación única de cada personaje. Dibuja los coeficientes de esta proyección en una gráfica, esto de da la _firma_ de cada personaje.\n",
    "15. Muestra la imagen _reconstruida_ a partir de los vectores propios. \n",
    "16. Crea una función que devuelva la diferencia:\n",
    "\n",
    "$$\n",
    "E_j = \\frac{||c_j - c_{nueva}||}{||c_j||}\n",
    "$$\n",
    "\n",
    "donde $c_j$ es cada una de las imágenes del personaje en el conjunto de _entrenamiento_ y $c_{nueva}$ es una imagen que no es de entrenamiento. Muestra en una gráfica la distancia por cada imagen."
   ]
  },
  {
   "cell_type": "markdown",
   "metadata": {},
   "source": [
    "17 Utiliza una [**matriz de confusión**](http://en.wikipedia.org/wiki/Confusion_matrix) para mostrar que tan efectivo es el reconocimiento de imágenes."
   ]
  },
  {
   "cell_type": "markdown",
   "metadata": {},
   "source": [
    "## Datos"
   ]
  },
  {
   "cell_type": "markdown",
   "metadata": {},
   "source": [
    "Utilizar imágenes del [Labeled Faces in the Wild](http://vis-www.cs.umass.edu/lfw/). Para obtenerlas de una manera más fácil, se puede usar la función `sklearn.datasets.fetch_lfw_people`."
   ]
  },
  {
   "cell_type": "markdown",
   "metadata": {},
   "source": [
    "Libreria caras documentacion:\n",
    "\n",
    "https://scikit-learn.org/stable/modules/generated/sklearn.datasets.fetch_lfw_people.html\n",
    "\n",
    "https://github.com/scikit-learn/scikit-learn/blob/0fb307bf3/sklearn/datasets/_lfw.py#L219\n",
    "\n",
    "https://scikit-learn.org/stable/modules/generated/sklearn.model_selection.train_test_split.html\n",
    "\n",
    "https://scikit-learn.org/stable/datasets/index.html#labeled-faces-in-the-wild-dataset"
   ]
  },
  {
   "cell_type": "code",
   "execution_count": 55,
   "metadata": {},
   "outputs": [],
   "source": [
    "#Librerias\n",
    "from sklearn.datasets import fetch_lfw_people #para descargar las imagenes\n",
    "import numpy as np\n",
    "import os # libreria del sistema\n",
    "import shutil #para eliminar el directorio si existe\n",
    "import matplotlib.pyplot as plt #Para visualizar y guardar las imagenes que tenemos\n",
    "import random #para escoger la muestra\n",
    "import sklearn.metrics as sk #para la matriz de confusion"
   ]
  },
  {
   "cell_type": "code",
   "execution_count": 56,
   "metadata": {},
   "outputs": [],
   "source": [
    "def inicializacion(mini=150, res=.5):\n",
    "    #min_faces_per_person --> minimo de cantidad de imagenes de esa persona\n",
    "    #resize --> proporcion de la imagen\n",
    "    #funneled --> para las imagenes estandarizadas\n",
    "    #download_if_missing --> descargar las imagenes si no estan\n",
    "    #data_home --> directorio cache\n",
    "    #color --> color o blanco y negro\n",
    "    caras = fetch_lfw_people(min_faces_per_person=mini, resize=res,  funneled=True, \n",
    "                             color=False, download_if_missing=True, data_home=\"data\")\n",
    "\n",
    "    #Informacion general sobre las imagenes\n",
    "    #cada linea en images es una imagen (como matriz)\n",
    "    num_caras, ancho, alto = caras.images.shape  \n",
    "\n",
    "    #Data son todas las imagenes puestas como fila (los pixeles)\n",
    "    #(num_caras, (ancho*alto))\n",
    "    img_fila = caras.data\n",
    "\n",
    "    #Id de nombre al que corresponde cada imagen (en orden)\n",
    "    Id = caras.target\n",
    "\n",
    "    #Nombres con el indice como Id\n",
    "    nombres = caras.target_names\n",
    "\n",
    "    #Todas las imagenes\n",
    "    imagenes = caras.images\n",
    "    \n",
    "    return num_caras, ancho, alto, img_fila, Id, nombres, imagenes"
   ]
  },
  {
   "cell_type": "code",
   "execution_count": 57,
   "metadata": {},
   "outputs": [],
   "source": [
    "def crear_directorio(nombre):\n",
    "    #Creamos el directorio si existe lo eliminamos y escribimos de nuevo\n",
    "    if not os.path.exists(nombre):\n",
    "        os.makedirs(nombre)\n",
    "    else:\n",
    "        shutil.rmtree(nombre) # Borra el directorio -rf\n",
    "        os.makedirs(nombre)"
   ]
  },
  {
   "cell_type": "code",
   "execution_count": 58,
   "metadata": {},
   "outputs": [],
   "source": [
    "def carpetas():\n",
    "    #Vamos a guardar las imagenes originales\n",
    "    crear_directorio(\"originales\")\n",
    "\n",
    "    #Creamos una carpeta con cada nombre\n",
    "    for nombre in nombres:\n",
    "        os.makedirs(\"originales/\" + nombre)\n",
    "\n",
    "    #Recorremos cada Id de imagen para asignarla en su carpeta\n",
    "    #La estamos guardando en su respectiva carpeta con el indice original\n",
    "    for i in range(len(Id)):\n",
    "        directory = \"originales/\" + str(nombres[Id[i]]) + \"/\" + str(i) + \".png\"\n",
    "        plt.imsave(directory, imagenes[i], cmap=\"gray\")\n",
    "        "
   ]
  },
  {
   "cell_type": "code",
   "execution_count": 59,
   "metadata": {},
   "outputs": [],
   "source": [
    "def muestra_aleatoria():\n",
    "    crear_directorio(\"muestra\")\n",
    "    crear_directorio(\"prueba\")\n",
    "    \n",
    "    #Recorremos cada nombre que existe\n",
    "    for nombre in nombres:\n",
    "        muestra_fila=[] #muestra de imagenes en fila\n",
    "        imagenes_aleatorias = random.choices(os.listdir(\"originales/\"+nombre), k=50) #muestra aleatoria\n",
    "        \n",
    "        for img in imagenes_aleatorias: #Recorremos imagenes de muestra\n",
    "            imagen = plt.imread(\"originales/\"+nombre+\"/\"+img) #Leemos las imagenes\n",
    "            imagen = imagen[:,:,0].reshape(ancho*alto) #a imagen fila\n",
    "            muestra_fila.append(imagen) #agregamos la imagen\n",
    "        \n",
    "        np.savetxt(fname=(\"muestra/\"+nombre+\".csv\"), X=muestra_fila ,delimiter=\",\") #Guardamos muestra csv\n",
    "        \n",
    "        complemento = [item for item in os.listdir(\"originales/\"+nombre) if item not in imagenes_aleatorias]\n",
    "        complemento = np.array(complemento)\n",
    "        np.savetxt(fname=(\"prueba/\"+nombre+\".csv\"), X=complemento ,delimiter=\",\", fmt='%s') #Guardamos complemento\n"
   ]
  },
  {
   "cell_type": "code",
   "execution_count": 60,
   "metadata": {},
   "outputs": [],
   "source": [
    "def rostro_promedio():\n",
    "    crear_directorio(\"promedios\")\n",
    "\n",
    "    for nombre in nombres: #promedio cada nombre\n",
    "        im_prom = np.loadtxt(fname=(\"muestra/\"+nombre+\".csv\"),delimiter=',')\n",
    "        im_prom = np.mean(im_prom, axis=0).reshape(ancho,alto)\n",
    "        plt.imsave(\"promedios/\"+nombre+\".png\" ,im_prom, cmap=\"gray\") #Guardammos rostro promedio png"
   ]
  },
  {
   "cell_type": "code",
   "execution_count": 61,
   "metadata": {},
   "outputs": [],
   "source": [
    "def eigenfaces():\n",
    "    crear_directorio(\"graficas-eigenvalores\")\n",
    "    crear_directorio(\"eigenfaces\")\n",
    "    crear_directorio(\"eigenfaces-csv\")\n",
    "\n",
    "    for nombre in nombres:\n",
    "        media = plt.imread(\"promedios/\"+nombre+\".png\") #cargamos promedio\n",
    "        media = media[:,:,0].reshape(ancho*alto)\n",
    "        muestra = np.loadtxt(fname=(\"muestra/\"+nombre+\".csv\"),delimiter=',') #cargamos muestra\n",
    "        M = muestra - media\n",
    "        correlacion = np.dot(M.transpose(), M) / len(media)\n",
    "        eigen = np.linalg.eigh(correlacion) #calcula eigen-vlues-vectors\n",
    "        eigen_values = eigen[0]\n",
    "        eigen_faces = eigen[1] #eigen_vectors\n",
    "        \n",
    "        matriz_eigen = []\n",
    "        for i in range(1,31): #elegimos 30 eigenvectors\n",
    "            matriz_eigen.append(eigen_faces[:,-i])\n",
    "        matriz_eigen = np.array(matriz_eigen).transpose() #convertimos a matriz\n",
    "        np.savetxt(fname=(\"eigenfaces-csv/\"+nombre+\".csv\"), X=matriz_eigen ,delimiter=\",\") #guaradmos\n",
    "\n",
    "        plt.scatter(range(0,29) ,eigen_values[-30:-1][::-1], label=\"Eigenvalores\") #Grafica eigenvalues\n",
    "        plt.title(\"30 eigenvalores más altos de \"+nombre)\n",
    "        plt.ylabel(\"Eigenvalores\")\n",
    "        plt.savefig(\"graficas-eigenvalores/\"+nombre+\".png\")\n",
    "        plt.clf()\n",
    "        plt.close()\n",
    "\n",
    "        crear_directorio(\"eigenfaces/\"+nombre)\n",
    "\n",
    "        for i in range(1,31): #guardamos eigenfaces\n",
    "            plt.imsave((\"eigenfaces/\"+nombre+\"/\"+str(i)+\".png\"),eigen_faces[:,-i].reshape(ancho,alto), cmap='gray')"
   ]
  },
  {
   "cell_type": "code",
   "execution_count": 62,
   "metadata": {},
   "outputs": [],
   "source": [
    "def Error (direccion):  \n",
    "    errores = []\n",
    "    imagen = plt.imread(direccion) #leemos imagen \n",
    "    \n",
    "    if len(imagen.shape)==3: #checamos sus dimesiones y convertimos a fila\n",
    "        imagen = imagen[:,:,0].reshape(ancho*alto)\n",
    "    else:\n",
    "        imagen = imagen[:,:].reshape(ancho*alto)\n",
    "\n",
    "    for nombre in nombres: #obtenemos errores respecto a cada persona\n",
    "        promedio = plt.imread(\"promedios/\"+nombre+\".png\")\n",
    "        promedio = promedio[:,:,0].reshape(ancho*alto)\n",
    "        eigen = np.loadtxt(fname=(\"eigenfaces-csv/\"+nombre+\".csv\"),delimiter=',')\n",
    "        coeficientes = np.dot(imagen, eigen)\n",
    "        proyeccion = np.dot(eigen, coeficientes) + (promedio/np.linalg.norm(promedio)) #combinacion lineal\n",
    "        dif = proyeccion - imagen\n",
    "        E = np.linalg.norm(dif) / np.linalg.norm(proyeccion) #norma\n",
    "        errores.append(E)\n",
    "    \n",
    "    return errores"
   ]
  },
  {
   "cell_type": "code",
   "execution_count": 63,
   "metadata": {},
   "outputs": [],
   "source": [
    "def parentesco (errores, nombre):\n",
    "    plt.figure(figsize=(10,8))\n",
    "    plt.scatter(range(len(nombres)), errores, s=100)\n",
    "    plt.xticks(range(len(nombres)), nombres, rotation=20)\n",
    "    plt.ylim(0,1)\n",
    "    for i in range(len(errores)):\n",
    "        plt.annotate(round(errores[i],4), (i-.1, errores[i]+.05 ))\n",
    "    plt.title(\"Parentesco de \"+nombre[:-4])\n",
    "    \n",
    "    plt.text((len(errores)-1)/2, .1, \"Usted tiene mayor parentesco con \" + nombres[np.argmin(errores)],\n",
    "             size=15, rotation = 0, ha=\"center\", va=\"center\", \n",
    "             bbox=dict(boxstyle=\"round\", ec=(1., 0.5, 0.5), fc=(1., 0.8, 0.8),))\n",
    "    \n",
    "    plt.savefig(\"analisis equipo/\"+nombre) #grafica de cada parentesco\n",
    "    plt.clf()\n",
    "    plt.close()"
   ]
  },
  {
   "cell_type": "code",
   "execution_count": 106,
   "metadata": {},
   "outputs": [],
   "source": [
    "def confusion(mini, res):\n",
    "    exacto = []\n",
    "    predicted = []\n",
    "\n",
    "    for nombre in nombres: #errores para el complemento de muestra\n",
    "        complemento = np.loadtxt(\"prueba/\"+nombre+\".csv\", delimiter=',', dtype=str)\n",
    "        for img_numb in complemento:\n",
    "            errores_prueba = Error(\"originales/\"+nombre+\"/\"+img_numb)\n",
    "            exacto.append(nombre)\n",
    "            predicted.append(nombres[np.argmin(errores_prueba)])\n",
    "\n",
    "    matriz = sk.confusion_matrix(exacto, predicted) #matriz confusion\n",
    "    \n",
    "    direc = (\"matrices resultados/\"+\"mini-\"+str(mini)+\n",
    "             \" res-\"+str(res)+\"(\"+str(len(os.listdir(\"matrices resultados/\")))\n",
    "             +\")\"+\".csv\")\n",
    "    np.savetxt(direc, X=matriz, delimiter=\",\")\n",
    "    "
   ]
  },
  {
   "cell_type": "code",
   "execution_count": 65,
   "metadata": {},
   "outputs": [],
   "source": [
    "def equipo():\n",
    "    crear_directorio(\"analisis equipo\")\n",
    "    \n",
    "    for nombre in os.listdir(\"fotos equipo/\"): #analisis fotos equipo\n",
    "        errores = Error(\"fotos equipo/\"+nombre)\n",
    "        parentesco(errores, nombre)"
   ]
  },
  {
   "cell_type": "code",
   "execution_count": 173,
   "metadata": {},
   "outputs": [],
   "source": [
    "def resultados():\n",
    "    for nombre in sorted(os.listdir(\"matrices resultados/\")):\n",
    "        suma=0\n",
    "        matriz = np.loadtxt(fname=(\"matrices resultados/\"+nombre),delimiter=',')\n",
    "        print(nombre[:-7])\n",
    "        for i in range(len(matriz)):\n",
    "            suma+=matriz[i,i]\n",
    "        print(\"Efectividad del \"+str((suma/np.sum(matriz))*100)[:6]+\"%\")\n",
    "        print(matriz)\n",
    "        print(\"\\n\")"
   ]
  },
  {
   "cell_type": "code",
   "execution_count": 176,
   "metadata": {},
   "outputs": [],
   "source": [
    "mini=51\n",
    "res=.5\n",
    "num_caras, ancho, alto, img_fila, Id, nombres, imagenes = inicializacion(mini, res)"
   ]
  },
  {
   "cell_type": "code",
   "execution_count": 177,
   "metadata": {},
   "outputs": [],
   "source": [
    "carpetas()"
   ]
  },
  {
   "cell_type": "code",
   "execution_count": 178,
   "metadata": {},
   "outputs": [],
   "source": [
    "muestra_aleatoria()"
   ]
  },
  {
   "cell_type": "code",
   "execution_count": 179,
   "metadata": {},
   "outputs": [],
   "source": [
    "rostro_promedio()"
   ]
  },
  {
   "cell_type": "code",
   "execution_count": 180,
   "metadata": {},
   "outputs": [],
   "source": [
    "eigenfaces()"
   ]
  },
  {
   "cell_type": "code",
   "execution_count": 181,
   "metadata": {},
   "outputs": [],
   "source": [
    "confusion(mini, res)"
   ]
  },
  {
   "cell_type": "code",
   "execution_count": 182,
   "metadata": {},
   "outputs": [
    {
     "name": "stdout",
     "output_type": "stream",
     "text": [
      "mini-100 res-0.5\n",
      "Efectividad del 53.904%\n",
      "[[  7.   8. 104.  45.  26.]\n",
      " [  0.  13.  51.   6.   7.]\n",
      " [  0.   9. 413.  45.  15.]\n",
      " [  0.   0.  18.  48.   6.]\n",
      " [  0.   1.  56.  28.  16.]]\n",
      "\n",
      "\n",
      "mini-100 res-0.5\n",
      "Efectividad del 23.427%\n",
      "[[ 27.   0.   9. 148.   4.]\n",
      " [  2.   4.   6.  59.   8.]\n",
      " [  7.   3. 106. 329.  40.]\n",
      " [  0.   0.   0.  66.   2.]\n",
      " [  0.   1.   4.  84.  13.]]\n",
      "\n",
      "\n",
      "mini-100 res-0.5\n",
      "Efectividad del 51.787%\n",
      "[[  5.   1. 109.  72.   6.]\n",
      " [  0.   0.  55.  22.   1.]\n",
      " [  1.   0. 427.  54.   2.]\n",
      " [  0.   0.  27.  42.   0.]\n",
      " [  0.   0.  56.  39.   4.]]\n",
      "\n",
      "\n",
      "mini-100 res-1\n",
      "Efectividad del 60.108%\n",
      "[[ 98.   0.  93.   0.   0.]\n",
      " [ 11.   8.  57.   0.   0.]\n",
      " [ 34.   8. 436.   1.   1.]\n",
      " [  1.   0.  65.   3.   1.]\n",
      " [  7.   0.  84.   4.   8.]]\n",
      "\n",
      "\n",
      "mini-100 res-1\n",
      "Efectividad del 45.913%\n",
      "[[ 94.   0.  20.  13.  64.]\n",
      " [  8.   0.  39.   2.  34.]\n",
      " [ 29.   0. 250.   7. 197.]\n",
      " [  3.   0.  20.  12.  33.]\n",
      " [  3.   0.  27.   4.  71.]]\n",
      "\n",
      "\n",
      "mini-100 res-1\n",
      "Efectividad del 39.739%\n",
      "[[133.   0.   9.  48.   1.]\n",
      " [ 31.   0.  11.  34.   5.]\n",
      " [141.   0. 157. 158.  26.]\n",
      " [  5.   0.   3.  55.   5.]\n",
      " [ 22.   0.  19.  37.  21.]]\n",
      "\n",
      "\n",
      "mini-150 res-0.5\n",
      "Efectividad del 80.774%\n",
      "[[106.  85.]\n",
      " [ 44. 436.]]\n",
      "\n",
      "\n",
      "mini-150 res-0.5(\n",
      "Efectividad del 74.442%\n",
      "[[ 23. 168.]\n",
      " [  4. 478.]]\n",
      "\n",
      "\n",
      "mini-150 res-0.5(\n",
      "Efectividad del 74.294%\n",
      "[[ 27. 163.]\n",
      " [ 10. 473.]]\n",
      "\n",
      "\n",
      "mini-150 res-1(\n",
      "Efectividad del 60.148%\n",
      "[[168.  23.]\n",
      " [246. 238.]]\n",
      "\n",
      "\n",
      "mini-150 res-1(\n",
      "Efectividad del 77.083%\n",
      "[[123.  67.]\n",
      " [ 87. 395.]]\n",
      "\n",
      "\n",
      "mini-150 res-1\n",
      "Efectividad del 73.855%\n",
      "[[ 21. 173.]\n",
      " [  4. 479.]]\n",
      "\n",
      "\n",
      "mini-51 res-0.5\n",
      "Efectividad del 26.394%\n",
      "[[  5.   0.   0.  10.  21.   0.   0.   0.   0.   1.   5.]\n",
      " [  0.   3.   0.  22. 145.   0.   0.   2.   2.   1.  15.]\n",
      " [  0.   0.   0.   9.  64.   0.   0.   0.   0.   0.   7.]\n",
      " [  1.   0.   1. 171. 252.   1.   0.   0.   0.   0.  57.]\n",
      " [  0.   0.   0.   1.  62.   0.   0.   0.   0.   0.   5.]\n",
      " [  0.   0.   0.   2.  19.   0.   0.   0.   0.   0.   2.]\n",
      " [  0.   0.   0.   0.  18.   0.   0.   0.   0.   0.   1.]\n",
      " [  0.   0.   0.   0.  16.   0.   0.   1.   0.   0.   1.]\n",
      " [  0.   0.   0.   1.  16.   0.   0.   0.  11.   0.   2.]\n",
      " [  0.   0.   0.   5.   4.   0.   0.   1.   0.   7.   3.]\n",
      " [  0.   0.   0.   8.  71.   0.   0.   0.   0.   0.  24.]]\n",
      "\n",
      "\n",
      "mini-51 res-0.5(\n",
      "Efectividad del 47.245%\n",
      "[[  0.  27.   0.  10.   0.   0.   0.   1.   1.   2.   0.]\n",
      " [  0. 173.   0.  15.   1.   1.   0.   1.   0.   2.   0.]\n",
      " [  0.  50.   8.  21.   0.   0.   0.   0.   1.   2.   0.]\n",
      " [  0. 185.   1. 283.   4.   2.   0.   1.   2.   0.   4.]\n",
      " [  0.  49.   0.   3.  15.   0.   0.   0.   1.   0.   0.]\n",
      " [  0.  17.   0.   2.   0.   1.   0.   0.   0.   0.   0.]\n",
      " [  0.  16.   0.   1.   0.   0.   0.   0.   1.   1.   0.]\n",
      " [  0.  13.   0.   3.   0.   0.   0.   1.   1.   1.   0.]\n",
      " [  0.  11.   0.   4.   0.   0.   0.   0.  10.   0.   0.]\n",
      " [  0.   0.   0.   4.   0.   0.   0.   0.   0.  13.   0.]\n",
      " [  0.  72.   0.  16.   9.   1.   0.   0.   4.   1.   2.]]\n",
      "\n",
      "\n",
      "mini-51 res-0.5(\n",
      "Efectividad del 27.180%\n",
      "[[ 15.  14.   0.   0.   1.   0.   0.   0.   2.   3.   0.]\n",
      " [ 12. 128.   1.   4.  21.   0.   0.   0.  14.   6.   7.]\n",
      " [ 13.  24.   1.   3.  20.   0.   0.   0.  11.   3.   9.]\n",
      " [ 55. 111.   0.  28. 123.   0.   0.   0.  52.  21.  93.]\n",
      " [  0.   3.   0.   0.  55.   0.   0.   0.   9.   0.   4.]\n",
      " [  1.   3.   0.   1.  10.   0.   0.   0.   4.   0.   4.]\n",
      " [  1.   5.   0.   3.   5.   0.   0.   0.   5.   1.   3.]\n",
      " [  2.   4.   0.   0.   8.   0.   0.   0.   8.   0.   2.]\n",
      " [  0.   0.   0.   0.   0.   0.   0.   0.  26.   0.   2.]\n",
      " [  3.   1.   0.   0.   0.   1.   0.   0.   1.  14.   2.]\n",
      " [  3.   6.   0.   3.  43.   1.   0.   0.  16.   2.  29.]]\n",
      "\n",
      "\n",
      "mini-51 res-1(\n",
      "Efectividad del 15.157%\n",
      "[[  1.   0.   0.   0.   1.   0.   0.   0.   1.   0.  38.]\n",
      " [  1.  10.   0.   4.  23.   0.   0.   0.  12.   0. 142.]\n",
      " [  0.   0.   0.   0.   7.   0.   0.   0.   2.   0.  74.]\n",
      " [  2.   0.   0.  14.  63.   0.   0.   0.  48.   0. 356.]\n",
      " [  0.   0.   0.   0.  30.   0.   0.   0.  10.   0.  27.]\n",
      " [  0.   0.   0.   1.   5.   0.   0.   0.   3.   0.  14.]\n",
      " [  0.   0.   0.   0.   3.   0.   0.   0.   1.   0.  18.]\n",
      " [  0.   0.   0.   0.   6.   0.   0.   0.   3.   0.  15.]\n",
      " [  0.   0.   0.   0.   0.   0.   0.   0.  21.   0.   4.]\n",
      " [  1.   0.   0.   0.   3.   0.   0.   0.   1.   9.   8.]\n",
      " [  0.   0.   0.   1.  12.   0.   0.   0.   8.   0.  79.]]\n",
      "\n",
      "\n",
      "mini-51 res-1(\n",
      "Efectividad del 26.286%\n",
      "[[ 20.   1.   0.   3.   9.   0.   0.   0.   0.   3.   1.]\n",
      " [ 25.  21.   0.  23.  86.   0.   0.   0.   8.  19.   9.]\n",
      " [ 12.   0.   1.   8.  49.   0.   0.   0.   1.   3.   6.]\n",
      " [ 29.   4.   0. 133. 252.   0.   0.   0.  14.  15.  36.]\n",
      " [  0.   0.   0.   6.  54.   0.   0.   0.   7.   0.   1.]\n",
      " [  0.   0.   0.   3.   9.   0.   0.   0.   5.   2.   1.]\n",
      " [  3.   0.   0.   1.  13.   0.   0.   0.   1.   0.   3.]\n",
      " [  2.   0.   0.   2.  11.   0.   0.   0.   2.   2.   1.]\n",
      " [  0.   0.   0.   2.   7.   0.   0.   0.  19.   0.   0.]\n",
      " [  2.   0.   0.   0.   1.   0.   0.   0.   0.  17.   1.]\n",
      " [  2.   0.   0.  16.  55.   0.   0.   0.   7.   4.  16.]]\n",
      "\n",
      "\n",
      "mini-51 res-1\n",
      "Efectividad del 18.559%\n",
      "[[  0.   2.   0.   3.   1.   0.   0.   0.   9.   1.  29.]\n",
      " [  0.  28.   0.   3.  16.   0.   0.   0.  25.   2. 116.]\n",
      " [  0.   2.   0.   2.   7.   0.   0.   0.   7.   0.  64.]\n",
      " [  0.   3.   0.  38.  54.   0.   0.   0.  50.   0. 336.]\n",
      " [  0.   0.   0.   0.  23.   0.   0.   0.   9.   0.  38.]\n",
      " [  0.   0.   0.   0.   2.   0.   0.   0.   6.   0.  15.]\n",
      " [  0.   0.   0.   0.   1.   0.   0.   0.   9.   0.  14.]\n",
      " [  0.   0.   0.   2.   2.   0.   0.   0.   7.   0.  11.]\n",
      " [  0.   0.   0.   0.   0.   0.   0.   0.  24.   0.   0.]\n",
      " [  0.   2.   0.   1.   3.   0.   0.   0.   1.   7.   5.]\n",
      " [  0.   1.   0.   1.   8.   0.   0.   0.  12.   0.  81.]]\n",
      "\n",
      "\n"
     ]
    }
   ],
   "source": [
    "resultados()"
   ]
  },
  {
   "cell_type": "code",
   "execution_count": 175,
   "metadata": {},
   "outputs": [],
   "source": [
    "equipo()"
   ]
  },
  {
   "cell_type": "code",
   "execution_count": 186,
   "metadata": {},
   "outputs": [
    {
     "data": {
      "text/plain": [
       "<matplotlib.image.AxesImage at 0x7f0823881910>"
      ]
     },
     "execution_count": 186,
     "metadata": {},
     "output_type": "execute_result"
    },
    {
     "data": {
      "image/png": "[encoded data removed]",
      "text/plain": [
       "<Figure size 432x288 with 1 Axes>"
      ]
     },
     "metadata": {
      "needs_background": "light"
     },
     "output_type": "display_data"
    }
   ],
   "source": [
    "plt.imshow(imagenes[431], cmap='gray')"
   ]
  },
  {
   "cell_type": "markdown",
   "metadata": {},
   "source": [
    "## Preguntas extra"
   ]
  },
  {
   "cell_type": "markdown",
   "metadata": {},
   "source": [
    "(a) Prepara imágenes de los miembros del equipo ¿A quiénes se parecen?"
   ]
  },
  {
   "cell_type": "markdown",
   "metadata": {},
   "source": [
    "(b) Utilizando los datos de _entrenamiento_ cuales son los valores máximo y mínimo en promedio de la distancia $E_j$. "
   ]
  },
  {
   "cell_type": "markdown",
   "metadata": {},
   "source": [
    "(c) Se dice lo siguiente:"
   ]
  },
  {
   "cell_type": "markdown",
   "metadata": {},
   "source": [
    "_The input face is consider to belong to a class if εk is bellow an established threshold $\\theta_\\epsilon$. Then the face image is considered to be a known face. If the difference is above the given threshold, but bellow a second threshold, the image can be determined as a unknown face. If the input image is above these two thresholds, the image is determined NOT to be a face._"
   ]
  },
  {
   "cell_type": "markdown",
   "metadata": {},
   "source": [
    "¿Se comprueba con las imágenes del equipo? ¿Qué pasa con imágenes que no son humanos?¿Y animales?"
   ]
  },
  {
   "cell_type": "markdown",
   "metadata": {},
   "source": [
    "(d) Otra técnica que puede mejorar los resultados es restarle a todas las imágenes una _imagen promedio_ de _todas_ las imágenes antes de calcular $\\mathcal{C}$. Repite los pasos ¿Cambia la matriz de confusión?"
   ]
  },
  {
   "cell_type": "markdown",
   "metadata": {},
   "source": [
    "## Bibliografía"
   ]
  },
  {
   "cell_type": "markdown",
   "metadata": {},
   "source": [
    "- [**Wikipedia**](http://en.wikipedia.org/wiki/Eigenface)\n",
    "- [**Labeled Faces in the Wild (LFW) people dataset**](http://vis-www.cs.umass.edu/lfw/)\n",
    "- **L. Sirovich and M. Kirby** (1987). _Low-dimensional procedure for the characterization of human faces_. `Journal of the Optical Society of America A 4 (3): 519–524`\n",
    "- **M. Turk and A. Pentland** (1991). _Face recognition using eigenfaces_. `Proc. IEEE Conference on Computer Vision and Pattern Recognition. pp. 586–591.`\n",
    "- **J. Nathan Kutz** (2013) _Data-Driven Modeling & Scientific Computation_ , `Oxford University Press` [link](http://dl.booktolearn.com/ebooks2/computer/computerscience/9780199660346_datadriven_modeling_and_scientific_computation_d739.pdf)."
   ]
  }
 ],
 "metadata": {
  "kernelspec": {
   "display_name": "Python 3",
   "language": "python",
   "name": "python3"
  },
  "language_info": {
   "codemirror_mode": {
    "name": "ipython",
    "version": 3
   },
   "file_extension": ".py",
   "mimetype": "text/x-python",
   "name": "python",
   "nbconvert_exporter": "python",
   "pygments_lexer": "ipython3",
   "version": "3.8.5"
  }
 },
 "nbformat": 4,
 "nbformat_minor": 1
}
