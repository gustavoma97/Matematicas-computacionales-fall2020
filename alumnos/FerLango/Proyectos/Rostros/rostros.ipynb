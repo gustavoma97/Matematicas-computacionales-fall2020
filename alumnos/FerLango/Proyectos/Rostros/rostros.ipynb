{
 "cells": [
  {
   "cell_type": "markdown",
   "metadata": {},
   "source": [
    "Identificación de rostros"
   ]
  },
  {
   "cell_type": "markdown",
   "metadata": {},
   "source": [
    "### Temas Principales"
   ]
  },
  {
   "cell_type": "markdown",
   "metadata": {},
   "source": [
    "- Matrices"
   ]
  },
  {
   "cell_type": "markdown",
   "metadata": {},
   "source": [
    "## Introducción"
   ]
  },
  {
   "cell_type": "markdown",
   "metadata": {},
   "source": [
    "Utilizando una base de datos, con rostros de personas (datos de _entrenamiento_ ) es posible preparar un **modelo** que ayude a identificar rostros en un nuevo conjunto de datos con rostros de personas (datos de _prueba_ ). La técnica que se va a utilizar en este proyecto, está basada en la idea de encontrar un conjunto de _eigenvectores_ para cada persona y luego utilizarlo para **clasificar** nuevos rostros.\n",
    "\n",
    "La idea fue presentada originalmente por Sirovich y Kirby en 1987 (**L. Sirovich and M. Kirby** (1987). _Low-dimensional procedure for the characterization of human faces_. `Journal of the Optical Society of America A 4 (3): 519–524`) e implementada por Turk  y Pentland en 1991 (**M. Turk and A. Pentland** (1991). _Face recognition using eigenfaces_. `Proc. IEEE Conference on Computer Vision and Pattern Recognition. pp. 586–591.`)."
   ]
  },
  {
   "cell_type": "markdown",
   "metadata": {},
   "source": [
    "## Preguntas a responder"
   ]
  },
  {
   "cell_type": "markdown",
   "metadata": {},
   "source": [
    "1. Descarga un conjunto de prueba del **LFW**, verifica que todos las imagenes están estandarizadas en tamaño y vienen en escala de grises. Tiene que haber 10 clases. Guarda estas imágenes en una carpeta llamada `originales`. Esto es muy importante, ya que los resultados deben de ser reproducibles.\n",
    "2. Describe las imagenes obtenidas ¿Cuáles son las etiquetas? ¿Cuántas imágenes hay de cada etiqueta? Crea carpetas con los nombres de las etiquetas y guarda las imágenes correspondientes ahí.\n",
    "3. Crea una función que muestre en una matriz de imágenes de $m \\times n$ un conjunto aleatorio del conjunto de datos en `originales`.\n",
    "4. Crea una función que calcule el rostro promedio de un personaje en particular. \n",
    "5. Crea una función que muestre el rostro promedio de un personaje en particular.\n",
    "6. Guarda los rostros promedios en una carpeta `promedios` usando el nombre de la etiqueta.\n",
    "7. De cada etiqueta, separala en dos grupos, uno de _entrenamiento_ (cada personaje con el mismo número de imagenes) y uno de _prueba_ (el restante).\n",
    "8. Crea una matriz $\\mathcal{M}$ con las imagenes de _entrenamiento_ puestas en un vector.\n",
    "9. Calcula la matriz de **correlación** $\\mathcal{C} = \\mathcal{M}^T\\mathcal{M}$. ¿Por qué es una matriz de correlación?\n",
    "10. Obtén los primeros $30$ _vectores_ y _valores propios_ de $\\mathcal{C}$.\n",
    "11. Toma cada uno de los _vectores propios_ y muéstralos como imagen.\n",
    "12. Muestra en una gráfica los _valores propios_ , ordenados de mayor a menor.\n",
    "13. Crea una función que calcule la representación de una imagen en los _vectores propios_. Esto se hace tomando la _proyección_ de la imagen en los _vectores propios_ . ¿Por qué? \n",
    "14. Utiliza esa función con las imágenes promedio, esto te da la representación única de cada personaje. Dibuja los coeficientes de esta proyección en una gráfica, esto de da la _firma_ de cada personaje.\n",
    "15. Muestra la imagen _reconstruida_ a partir de los vectores propios. \n",
    "16. Crea una función que devuelva la diferencia:\n",
    "\n",
    "$$\n",
    "E_j = \\frac{||c_j - c_{nueva}||}{||c_j||}\n",
    "$$\n",
    "\n",
    "donde $c_j$ es cada una de las imágenes del personaje en el conjunto de _entrenamiento_ y $c_{nueva}$ es una imagen que no es de entrenamiento. Muestra en una gráfica la distancia por cada imagen."
   ]
  },
  {
   "cell_type": "markdown",
   "metadata": {},
   "source": [
    "17 Utiliza una [**matriz de confusión**](http://en.wikipedia.org/wiki/Confusion_matrix) para mostrar que tan efectivo es el reconocimiento de imágenes."
   ]
  },
  {
   "cell_type": "markdown",
   "metadata": {},
   "source": [
    "## Datos"
   ]
  },
  {
   "cell_type": "markdown",
   "metadata": {},
   "source": [
    "Utilizar imágenes del [Labeled Faces in the Wild](http://vis-www.cs.umass.edu/lfw/). Para obtenerlas de una manera más fácil, se puede usar la función `sklearn.datasets.fetch_lfw_people`."
   ]
  },
  {
   "cell_type": "markdown",
   "metadata": {},
   "source": [
    "Libreria faces:\n",
    "\n",
    "https://scikit-learn.org/stable/modules/generated/sklearn.datasets.fetch_lfw_people.html\n",
    "\n",
    "https://github.com/scikit-learn/scikit-learn/blob/0fb307bf3/sklearn/datasets/_lfw.py#L219\n",
    "\n",
    "https://scikit-learn.org/stable/modules/generated/sklearn.model_selection.train_test_split.html"
   ]
  },
  {
   "cell_type": "code",
   "execution_count": 2,
   "metadata": {},
   "outputs": [],
   "source": [
    "def inicializacion():\n",
    "\n",
    "    #libreria para descargar las imagenes\n",
    "    from sklearn.datasets import fetch_lfw_people\n",
    "\n",
    "    import numpy as np\n",
    "\n",
    "    #min_faces_per_person --> minimo de cantidad de imagenes de esa persona\n",
    "    #resize --> proporcion de la imagen\n",
    "    #funneled --> para las imagenes estandarizadas\n",
    "    #download_if_missing --> descargar las imagenes si no estan\n",
    "    #data_home --> directorio cache\n",
    "    #color --> color o blanco y negro\n",
    "    caras = fetch_lfw_people(min_faces_per_person=100, resize=.5,  funneled=True, color=False, \n",
    "                             download_if_missing=True, data_home=\"Data\")\n",
    "\n",
    "    #Informacion general sobre las imagenes\n",
    "    #cada linea en images es una imagen (como matriz)\n",
    "    num_caras, ancho, alto = caras.images.shape  \n",
    "\n",
    "    #Data son todas las imagenes puestas como fila (los pixeles)\n",
    "    #(num_caras, (ancho*alto))\n",
    "    img_fila = caras.data\n",
    "\n",
    "    #Id de nombre al que corresponde cada imagen (en orden)\n",
    "    Id = caras.target\n",
    "\n",
    "    #Nombres con el indice como Id\n",
    "    nombres = caras.target_names\n",
    "\n",
    "    #Todas las imagenes\n",
    "    imagenes = caras.images\n",
    "    \n",
    "    return num_caras, ancho, alto, img_fila, Id, nombres, imagenes"
   ]
  },
  {
   "cell_type": "code",
   "execution_count": 3,
   "metadata": {},
   "outputs": [],
   "source": [
    "def carpetas():\n",
    "\n",
    "    #Vamos a guardar las imagenes originales\n",
    "\n",
    "    #importamos libreria del sistema\n",
    "    import os\n",
    "\n",
    "    #importamos libreria para eliminar el directorio si existe\n",
    "    import shutil\n",
    "\n",
    "    #Creamos el directorio si existe lo eliminamos y escribimos de nuevo\n",
    "    if not os.path.exists(\"originales\"):\n",
    "        os.makedirs(\"originales\")\n",
    "    else:\n",
    "        shutil.rmtree(\"originales\") # Borra el directorio -rf\n",
    "        os.makedirs(\"originales\")\n",
    "\n",
    "    #Creamos una carpeta con cada nombre\n",
    "    for nombre in nombres:\n",
    "        os.makedirs(\"originales/\" + nombre)\n",
    "\n",
    "    #Para visualizar y guardar las imagenes que tenemos\n",
    "    import matplotlib.pyplot as plt\n",
    "\n",
    "    #Recorremos cada Id de imagen para asignarla en su carpeta\n",
    "    #La estamos guardando en su respectiva carpeta con el indice original\n",
    "    for i in range(len(Id)):\n",
    "        directory = \"originales/\" + str(nombres[Id[i] - 1]) + \"/\" + str(i) + \".png\"\n",
    "        plt.imsave(directory, imagenes[i], cmap=\"gray\")\n",
    "        "
   ]
  },
  {
   "cell_type": "code",
   "execution_count": 103,
   "metadata": {},
   "outputs": [],
   "source": [
    "def muestra_aleatoria():\n",
    "\n",
    "    import os\n",
    "    import random\n",
    "    import matplotlib.pyplot as plt\n",
    "    import numpy as np\n",
    "    import shutil\n",
    "\n",
    "    #Creamos el directorio muestra\n",
    "    if not os.path.exists(\"muestra\"):\n",
    "        os.makedirs(\"muestra\")\n",
    "    else:\n",
    "        shutil.rmtree(\"muestra\") # Borra el directorio -rf\n",
    "        os.makedirs(\"muestra\")\n",
    "    \n",
    "    #Recorremos cada nombre que existe\n",
    "    for nombre in os.listdir(\"originales/\"):\n",
    "        \n",
    "        #Creamos nuestro arreglo que va a contener la muestra de imagenes en fila\n",
    "        muestra_fila=[]\n",
    "        \n",
    "        #Elegimos la muestra aleatoria\n",
    "        imagenes_aleatorias = random.choices(os.listdir(\"originales/\"+nombre), \n",
    "                                             k=int(.3*len(os.listdir(\"originales/\" + nombre))))\n",
    "        \n",
    "        #Recorremos las imagenes seleccionadas\n",
    "        for img in imagenes_aleatorias:\n",
    "            \n",
    "            #Leemos las imagenes\n",
    "            imagen = plt.imread(\"originales/\"+nombre+\"/\"+img)\n",
    "            \n",
    "            #convertimos el tamaño de la imagen\n",
    "            imagen = imagen[:,:,0].reshape(ancho*alto)\n",
    "            \n",
    "            #agregamos la imagen\n",
    "            muestra_fila.append(imagen)\n",
    "        \n",
    "        #Guardamos la muestra como un csv\n",
    "        np.savetxt(fname=(\"muestra/\"+nombre+\".csv\"), X=muestra_fila ,delimiter=\",\")"
   ]
  },
  {
   "cell_type": "code",
   "execution_count": 130,
   "metadata": {},
   "outputs": [],
   "source": [
    "def rostro_promedio():\n",
    "    import numpy as np\n",
    "    import matplotlib.pyplot as plt\n",
    "\n",
    "    #Creamos el directorio promedios\n",
    "    if not os.path.exists(\"promedios\"):\n",
    "        os.makedirs(\"promedios\")\n",
    "    else:\n",
    "        shutil.rmtree(\"promedios\") # Borra el directorio -rf\n",
    "        os.makedirs(\"promedios\")\n",
    "\n",
    "    #Para cada nombre que existe, sacamos el promedio\n",
    "    for nombre in os.listdir(\"originales/\"):\n",
    "        im_prom = np.loadtxt(fname=(\"muestra/\"+nombre+\".csv\"),delimiter=',')\n",
    "        im_prom = np.mean(im_prom, axis=0).reshape(ancho,alto)\n",
    "        \n",
    "        #Guardammos el rostro promedio como imagen\n",
    "        plt.imsave(\"promedios/\"+nombre+\".png\" ,im_prom, cmap=\"gray\")"
   ]
  },
  {
   "cell_type": "code",
   "execution_count": null,
   "metadata": {},
   "outputs": [],
   "source": []
  },
  {
   "cell_type": "code",
   "execution_count": null,
   "metadata": {},
   "outputs": [],
   "source": []
  },
  {
   "cell_type": "code",
   "execution_count": null,
   "metadata": {},
   "outputs": [],
   "source": []
  },
  {
   "cell_type": "code",
   "execution_count": 26,
   "metadata": {},
   "outputs": [],
   "source": [
    "num_caras, ancho, alto, img_fila, Id, nombres, imagenes = inicializacion()\n",
    "carpetas()\n",
    "muestra_aleatoria()\n",
    "rostro_promedio()"
   ]
  },
  {
   "cell_type": "code",
   "execution_count": null,
   "metadata": {},
   "outputs": [],
   "source": []
  },
  {
   "cell_type": "code",
   "execution_count": null,
   "metadata": {},
   "outputs": [],
   "source": []
  },
  {
   "cell_type": "code",
   "execution_count": null,
   "metadata": {},
   "outputs": [],
   "source": []
  },
  {
   "cell_type": "code",
   "execution_count": null,
   "metadata": {},
   "outputs": [],
   "source": []
  },
  {
   "cell_type": "code",
   "execution_count": null,
   "metadata": {},
   "outputs": [],
   "source": []
  },
  {
   "cell_type": "code",
   "execution_count": null,
   "metadata": {},
   "outputs": [],
   "source": []
  },
  {
   "cell_type": "code",
   "execution_count": null,
   "metadata": {},
   "outputs": [],
   "source": []
  },
  {
   "cell_type": "code",
   "execution_count": 12,
   "metadata": {},
   "outputs": [
    {
     "data": {
      "text/plain": [
       "<matplotlib.image.AxesImage at 0x7f7289ce9e50>"
      ]
     },
     "execution_count": 12,
     "metadata": {},
     "output_type": "execute_result"
    },
    {
     "data": {
      "image/png": "[encoded data removed]",
      "text/plain": [
       "<Figure size 432x288 with 1 Axes>"
      ]
     },
     "metadata": {
      "needs_background": "light"
     },
     "output_type": "display_data"
    }
   ],
   "source": [
    "import matplotlib.pyplot as plt\n",
    "plt.imshow(imagenes[5], cmap='gray')"
   ]
  },
  {
   "cell_type": "markdown",
   "metadata": {},
   "source": [
    "## Preguntas extra"
   ]
  },
  {
   "cell_type": "markdown",
   "metadata": {},
   "source": [
    "(a) Prepara imágenes de los miembros del equipo ¿A quiénes se parecen?"
   ]
  },
  {
   "cell_type": "markdown",
   "metadata": {},
   "source": [
    "(b) Utilizando los datos de _entrenamiento_ cuales son los valores máximo y mínimo en promedio de la distancia $E_j$. "
   ]
  },
  {
   "cell_type": "markdown",
   "metadata": {},
   "source": [
    "(c) Se dice lo siguiente:"
   ]
  },
  {
   "cell_type": "markdown",
   "metadata": {},
   "source": [
    "_The input face is consider to belong to a class if εk is bellow an established threshold $\\theta_\\epsilon$. Then the face image is considered to be a known face. If the difference is above the given threshold, but bellow a second threshold, the image can be determined as a unknown face. If the input image is above these two thresholds, the image is determined NOT to be a face._"
   ]
  },
  {
   "cell_type": "markdown",
   "metadata": {},
   "source": [
    "¿Se comprueba con las imágenes del equipo? ¿Qué pasa con imágenes que no son humanos?¿Y animales?"
   ]
  },
  {
   "cell_type": "markdown",
   "metadata": {},
   "source": [
    "(d) Otra técnica que puede mejorar los resultados es restarle a todas las imágenes una _imagen promedio_ de _todas_ las imágenes antes de calcular $\\mathcal{C}$. Repite los pasos ¿Cambia la matriz de confusión?"
   ]
  },
  {
   "cell_type": "markdown",
   "metadata": {},
   "source": [
    "## Bibliografía"
   ]
  },
  {
   "cell_type": "markdown",
   "metadata": {},
   "source": [
    "- [**Wikipedia**](http://en.wikipedia.org/wiki/Eigenface)\n",
    "- [**Labeled Faces in the Wild (LFW) people dataset**](http://vis-www.cs.umass.edu/lfw/)\n",
    "- **L. Sirovich and M. Kirby** (1987). _Low-dimensional procedure for the characterization of human faces_. `Journal of the Optical Society of America A 4 (3): 519–524`\n",
    "- **M. Turk and A. Pentland** (1991). _Face recognition using eigenfaces_. `Proc. IEEE Conference on Computer Vision and Pattern Recognition. pp. 586–591.`\n",
    "- **J. Nathan Kutz** (2013) _Data-Driven Modeling & Scientific Computation_ , `Oxford University Press` [link](http://dl.booktolearn.com/ebooks2/computer/computerscience/9780199660346_datadriven_modeling_and_scientific_computation_d739.pdf)."
   ]
  }
 ],
 "metadata": {
  "kernelspec": {
   "display_name": "Python 3",
   "language": "python",
   "name": "python3"
  },
  "language_info": {
   "codemirror_mode": {
    "name": "ipython",
    "version": 3
   },
   "file_extension": ".py",
   "mimetype": "text/x-python",
   "name": "python",
   "nbconvert_exporter": "python",
   "pygments_lexer": "ipython3",
   "version": "3.8.5"
  }
 },
 "nbformat": 4,
 "nbformat_minor": 1
}
